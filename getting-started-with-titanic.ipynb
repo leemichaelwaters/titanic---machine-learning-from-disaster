{
 "cells": [
  {
   "cell_type": "code",
   "execution_count": 1,
   "id": "89861e8a",
   "metadata": {
    "execution": {
     "iopub.execute_input": "2022-06-24T20:05:25.516599Z",
     "iopub.status.busy": "2022-06-24T20:05:25.515976Z",
     "iopub.status.idle": "2022-06-24T20:05:26.825960Z",
     "shell.execute_reply": "2022-06-24T20:05:26.824616Z"
    },
    "papermill": {
     "duration": 1.3195,
     "end_time": "2022-06-24T20:05:26.828884",
     "exception": false,
     "start_time": "2022-06-24T20:05:25.509384",
     "status": "completed"
    },
    "tags": []
   },
   "outputs": [],
   "source": [
    "import pandas as pd\n",
    "from sklearn.model_selection import train_test_split\n",
    "\n",
    "# Read the data\n",
    "train_data = pd.read_csv(\"/kaggle/input/titanic/train.csv\")\n",
    "test_data = pd.read_csv(\"/kaggle/input/titanic/test.csv\")\n",
    "\n",
    "# Separate target from predictors\n",
    "y = train_data.Survived\n",
    "X = train_data.drop(['Survived', 'PassengerId'], axis=1)\n",
    "X_test = test_data.drop(['PassengerId'], axis=1)\n",
    "\n",
    "# Divide data into training/validation sets\n",
    "X_train, X_valid, y_train, y_valid = train_test_split(X, y, train_size=0.8, test_size=0.2, random_state=0)\n",
    "\n",
    "# Select categorical columns with relatively low cardinality\n",
    "categorical_cols = [cname for cname in X_train.columns if X_train[cname].nunique() < 10 and X_train[cname].dtype == 'object']\n",
    "\n",
    "#Select numerical columns\n",
    "numerical_cols = [cname for cname in X_train.columns if  X_train[cname].dtype in ['int64', 'float64']]\n",
    "\n",
    "# Keep selected columns only\n",
    "my_cols = categorical_cols + numerical_cols\n",
    "X_train = X_train[my_cols]\n",
    "X_valid = X_valid[my_cols]\n",
    "X_full = X[my_cols]\n",
    "X_test = X_test[my_cols]"
   ]
  },
  {
   "cell_type": "code",
   "execution_count": 2,
   "id": "220550f2",
   "metadata": {
    "execution": {
     "iopub.execute_input": "2022-06-24T20:05:26.836997Z",
     "iopub.status.busy": "2022-06-24T20:05:26.836643Z",
     "iopub.status.idle": "2022-06-24T20:05:26.857673Z",
     "shell.execute_reply": "2022-06-24T20:05:26.856374Z"
    },
    "papermill": {
     "duration": 0.028014,
     "end_time": "2022-06-24T20:05:26.860175",
     "exception": false,
     "start_time": "2022-06-24T20:05:26.832161",
     "status": "completed"
    },
    "tags": []
   },
   "outputs": [
    {
     "data": {
      "text/html": [
       "<div>\n",
       "<style scoped>\n",
       "    .dataframe tbody tr th:only-of-type {\n",
       "        vertical-align: middle;\n",
       "    }\n",
       "\n",
       "    .dataframe tbody tr th {\n",
       "        vertical-align: top;\n",
       "    }\n",
       "\n",
       "    .dataframe thead th {\n",
       "        text-align: right;\n",
       "    }\n",
       "</style>\n",
       "<table border=\"1\" class=\"dataframe\">\n",
       "  <thead>\n",
       "    <tr style=\"text-align: right;\">\n",
       "      <th></th>\n",
       "      <th>Sex</th>\n",
       "      <th>Embarked</th>\n",
       "      <th>Pclass</th>\n",
       "      <th>Age</th>\n",
       "      <th>SibSp</th>\n",
       "      <th>Parch</th>\n",
       "      <th>Fare</th>\n",
       "    </tr>\n",
       "  </thead>\n",
       "  <tbody>\n",
       "    <tr>\n",
       "      <th>140</th>\n",
       "      <td>female</td>\n",
       "      <td>C</td>\n",
       "      <td>3</td>\n",
       "      <td>NaN</td>\n",
       "      <td>0</td>\n",
       "      <td>2</td>\n",
       "      <td>15.2458</td>\n",
       "    </tr>\n",
       "    <tr>\n",
       "      <th>439</th>\n",
       "      <td>male</td>\n",
       "      <td>S</td>\n",
       "      <td>2</td>\n",
       "      <td>31.0</td>\n",
       "      <td>0</td>\n",
       "      <td>0</td>\n",
       "      <td>10.5000</td>\n",
       "    </tr>\n",
       "    <tr>\n",
       "      <th>817</th>\n",
       "      <td>male</td>\n",
       "      <td>C</td>\n",
       "      <td>2</td>\n",
       "      <td>31.0</td>\n",
       "      <td>1</td>\n",
       "      <td>1</td>\n",
       "      <td>37.0042</td>\n",
       "    </tr>\n",
       "    <tr>\n",
       "      <th>378</th>\n",
       "      <td>male</td>\n",
       "      <td>C</td>\n",
       "      <td>3</td>\n",
       "      <td>20.0</td>\n",
       "      <td>0</td>\n",
       "      <td>0</td>\n",
       "      <td>4.0125</td>\n",
       "    </tr>\n",
       "    <tr>\n",
       "      <th>491</th>\n",
       "      <td>male</td>\n",
       "      <td>S</td>\n",
       "      <td>3</td>\n",
       "      <td>21.0</td>\n",
       "      <td>0</td>\n",
       "      <td>0</td>\n",
       "      <td>7.2500</td>\n",
       "    </tr>\n",
       "  </tbody>\n",
       "</table>\n",
       "</div>"
      ],
      "text/plain": [
       "        Sex Embarked  Pclass   Age  SibSp  Parch     Fare\n",
       "140  female        C       3   NaN      0      2  15.2458\n",
       "439    male        S       2  31.0      0      0  10.5000\n",
       "817    male        C       2  31.0      1      1  37.0042\n",
       "378    male        C       3  20.0      0      0   4.0125\n",
       "491    male        S       3  21.0      0      0   7.2500"
      ]
     },
     "execution_count": 2,
     "metadata": {},
     "output_type": "execute_result"
    }
   ],
   "source": [
    "X_train.head()"
   ]
  },
  {
   "cell_type": "code",
   "execution_count": 3,
   "id": "4d93a561",
   "metadata": {
    "execution": {
     "iopub.execute_input": "2022-06-24T20:05:26.868269Z",
     "iopub.status.busy": "2022-06-24T20:05:26.867926Z",
     "iopub.status.idle": "2022-06-24T20:05:26.881660Z",
     "shell.execute_reply": "2022-06-24T20:05:26.880375Z"
    },
    "papermill": {
     "duration": 0.02031,
     "end_time": "2022-06-24T20:05:26.883845",
     "exception": false,
     "start_time": "2022-06-24T20:05:26.863535",
     "status": "completed"
    },
    "tags": []
   },
   "outputs": [
    {
     "data": {
      "text/html": [
       "<div>\n",
       "<style scoped>\n",
       "    .dataframe tbody tr th:only-of-type {\n",
       "        vertical-align: middle;\n",
       "    }\n",
       "\n",
       "    .dataframe tbody tr th {\n",
       "        vertical-align: top;\n",
       "    }\n",
       "\n",
       "    .dataframe thead th {\n",
       "        text-align: right;\n",
       "    }\n",
       "</style>\n",
       "<table border=\"1\" class=\"dataframe\">\n",
       "  <thead>\n",
       "    <tr style=\"text-align: right;\">\n",
       "      <th></th>\n",
       "      <th>Sex</th>\n",
       "      <th>Embarked</th>\n",
       "      <th>Pclass</th>\n",
       "      <th>Age</th>\n",
       "      <th>SibSp</th>\n",
       "      <th>Parch</th>\n",
       "      <th>Fare</th>\n",
       "    </tr>\n",
       "  </thead>\n",
       "  <tbody>\n",
       "    <tr>\n",
       "      <th>0</th>\n",
       "      <td>male</td>\n",
       "      <td>Q</td>\n",
       "      <td>3</td>\n",
       "      <td>34.5</td>\n",
       "      <td>0</td>\n",
       "      <td>0</td>\n",
       "      <td>7.8292</td>\n",
       "    </tr>\n",
       "    <tr>\n",
       "      <th>1</th>\n",
       "      <td>female</td>\n",
       "      <td>S</td>\n",
       "      <td>3</td>\n",
       "      <td>47.0</td>\n",
       "      <td>1</td>\n",
       "      <td>0</td>\n",
       "      <td>7.0000</td>\n",
       "    </tr>\n",
       "    <tr>\n",
       "      <th>2</th>\n",
       "      <td>male</td>\n",
       "      <td>Q</td>\n",
       "      <td>2</td>\n",
       "      <td>62.0</td>\n",
       "      <td>0</td>\n",
       "      <td>0</td>\n",
       "      <td>9.6875</td>\n",
       "    </tr>\n",
       "    <tr>\n",
       "      <th>3</th>\n",
       "      <td>male</td>\n",
       "      <td>S</td>\n",
       "      <td>3</td>\n",
       "      <td>27.0</td>\n",
       "      <td>0</td>\n",
       "      <td>0</td>\n",
       "      <td>8.6625</td>\n",
       "    </tr>\n",
       "    <tr>\n",
       "      <th>4</th>\n",
       "      <td>female</td>\n",
       "      <td>S</td>\n",
       "      <td>3</td>\n",
       "      <td>22.0</td>\n",
       "      <td>1</td>\n",
       "      <td>1</td>\n",
       "      <td>12.2875</td>\n",
       "    </tr>\n",
       "  </tbody>\n",
       "</table>\n",
       "</div>"
      ],
      "text/plain": [
       "      Sex Embarked  Pclass   Age  SibSp  Parch     Fare\n",
       "0    male        Q       3  34.5      0      0   7.8292\n",
       "1  female        S       3  47.0      1      0   7.0000\n",
       "2    male        Q       2  62.0      0      0   9.6875\n",
       "3    male        S       3  27.0      0      0   8.6625\n",
       "4  female        S       3  22.0      1      1  12.2875"
      ]
     },
     "execution_count": 3,
     "metadata": {},
     "output_type": "execute_result"
    }
   ],
   "source": [
    "X_test.head()"
   ]
  },
  {
   "cell_type": "code",
   "execution_count": 4,
   "id": "b371869c",
   "metadata": {
    "execution": {
     "iopub.execute_input": "2022-06-24T20:05:26.893246Z",
     "iopub.status.busy": "2022-06-24T20:05:26.892517Z",
     "iopub.status.idle": "2022-06-24T20:05:27.053384Z",
     "shell.execute_reply": "2022-06-24T20:05:27.052202Z"
    },
    "papermill": {
     "duration": 0.168429,
     "end_time": "2022-06-24T20:05:27.056177",
     "exception": false,
     "start_time": "2022-06-24T20:05:26.887748",
     "status": "completed"
    },
    "tags": []
   },
   "outputs": [],
   "source": [
    "from sklearn.compose import ColumnTransformer\n",
    "from sklearn.pipeline import Pipeline\n",
    "from sklearn.impute import SimpleImputer\n",
    "from sklearn.preprocessing import OneHotEncoder\n",
    "\n",
    "# Preprocessing for numerical data\n",
    "numerical_transformer = SimpleImputer(strategy='constant')\n",
    "\n",
    "# Preprocessing for categorical data\n",
    "categorical_transformer = Pipeline(steps=[\n",
    "    ('imputer', SimpleImputer(strategy='most_frequent')),\n",
    "    ('onehot', OneHotEncoder(handle_unknown='ignore'))\n",
    "])\n",
    "\n",
    "# Bundle preprocessing for numerical and categorical data\n",
    "preprocessor = ColumnTransformer(\n",
    "    transformers=[\n",
    "        ('num', numerical_transformer, numerical_cols),\n",
    "        ('cat', categorical_transformer, categorical_cols)\n",
    "])"
   ]
  },
  {
   "cell_type": "code",
   "execution_count": 5,
   "id": "b55b24d6",
   "metadata": {
    "execution": {
     "iopub.execute_input": "2022-06-24T20:05:27.064761Z",
     "iopub.status.busy": "2022-06-24T20:05:27.064391Z",
     "iopub.status.idle": "2022-06-24T20:05:27.172652Z",
     "shell.execute_reply": "2022-06-24T20:05:27.171372Z"
    },
    "papermill": {
     "duration": 0.115844,
     "end_time": "2022-06-24T20:05:27.175504",
     "exception": false,
     "start_time": "2022-06-24T20:05:27.059660",
     "status": "completed"
    },
    "tags": []
   },
   "outputs": [],
   "source": [
    "from sklearn.ensemble import RandomForestClassifier\n",
    "\n",
    "model = RandomForestClassifier(n_estimators=100, random_state=0)"
   ]
  },
  {
   "cell_type": "code",
   "execution_count": 6,
   "id": "5069f88f",
   "metadata": {
    "execution": {
     "iopub.execute_input": "2022-06-24T20:05:27.184484Z",
     "iopub.status.busy": "2022-06-24T20:05:27.183745Z",
     "iopub.status.idle": "2022-06-24T20:05:27.439220Z",
     "shell.execute_reply": "2022-06-24T20:05:27.437788Z"
    },
    "papermill": {
     "duration": 0.262799,
     "end_time": "2022-06-24T20:05:27.441850",
     "exception": false,
     "start_time": "2022-06-24T20:05:27.179051",
     "status": "completed"
    },
    "tags": []
   },
   "outputs": [
    {
     "name": "stdout",
     "output_type": "stream",
     "text": [
      "Accuracy:  0.8379888268156425\n"
     ]
    }
   ],
   "source": [
    "from sklearn.metrics import accuracy_score\n",
    "\n",
    "# Bundle preprocessing and modeling code in a pipeline\n",
    "my_pipeline = Pipeline(steps=[('preprocessor', preprocessor),\n",
    "                              ('model', model)    \n",
    "                             ])\n",
    "\n",
    "# Preprocessing of training data, fit model\n",
    "my_pipeline.fit(X_train, y_train)\n",
    "\n",
    "# Preprocessing of validation data, get predictions\n",
    "preds = my_pipeline.predict(X_valid)\n",
    "\n",
    "# Evaluate the model\n",
    "score = accuracy_score(y_valid, preds)\n",
    "print('Accuracy: ', score)                            "
   ]
  },
  {
   "cell_type": "code",
   "execution_count": 7,
   "id": "f9e7a1ce",
   "metadata": {
    "execution": {
     "iopub.execute_input": "2022-06-24T20:05:27.451069Z",
     "iopub.status.busy": "2022-06-24T20:05:27.450401Z",
     "iopub.status.idle": "2022-06-24T20:05:27.736830Z",
     "shell.execute_reply": "2022-06-24T20:05:27.735449Z"
    },
    "papermill": {
     "duration": 0.294778,
     "end_time": "2022-06-24T20:05:27.740252",
     "exception": false,
     "start_time": "2022-06-24T20:05:27.445474",
     "status": "completed"
    },
    "tags": []
   },
   "outputs": [
    {
     "name": "stdout",
     "output_type": "stream",
     "text": [
      "Your submission was successfully saved!\n"
     ]
    }
   ],
   "source": [
    "# Preprocessing of full training data, fit model\n",
    "my_pipeline.fit(X_full, y)\n",
    "\n",
    "# Preprocessing of test data, get predictions\n",
    "preds_test = my_pipeline.predict(X_test)\n",
    "\n",
    "output = pd.DataFrame({'PassengerId': test_data.PassengerId, 'Survived': preds_test})\n",
    "output.to_csv('submission.csv', index=False)\n",
    "print(\"Your submission was successfully saved!\")"
   ]
  }
 ],
 "metadata": {
  "kernelspec": {
   "display_name": "Python 3",
   "language": "python",
   "name": "python3"
  },
  "language_info": {
   "codemirror_mode": {
    "name": "ipython",
    "version": 3
   },
   "file_extension": ".py",
   "mimetype": "text/x-python",
   "name": "python",
   "nbconvert_exporter": "python",
   "pygments_lexer": "ipython3",
   "version": "3.7.12"
  },
  "papermill": {
   "default_parameters": {},
   "duration": 15.727833,
   "end_time": "2022-06-24T20:05:30.890035",
   "environment_variables": {},
   "exception": null,
   "input_path": "__notebook__.ipynb",
   "output_path": "__notebook__.ipynb",
   "parameters": {},
   "start_time": "2022-06-24T20:05:15.162202",
   "version": "2.3.4"
  }
 },
 "nbformat": 4,
 "nbformat_minor": 5
}
