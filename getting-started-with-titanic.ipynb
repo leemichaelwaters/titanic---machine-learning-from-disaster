{
 "cells": [
  {
   "cell_type": "code",
   "execution_count": 1,
   "id": "fe35865a",
   "metadata": {
    "execution": {
     "iopub.execute_input": "2022-06-24T19:56:06.812403Z",
     "iopub.status.busy": "2022-06-24T19:56:06.811405Z",
     "iopub.status.idle": "2022-06-24T19:56:08.127111Z",
     "shell.execute_reply": "2022-06-24T19:56:08.125508Z"
    },
    "papermill": {
     "duration": 1.325145,
     "end_time": "2022-06-24T19:56:08.130133",
     "exception": false,
     "start_time": "2022-06-24T19:56:06.804988",
     "status": "completed"
    },
    "tags": []
   },
   "outputs": [],
   "source": [
    "import pandas as pd\n",
    "from sklearn.model_selection import train_test_split\n",
    "\n",
    "# Read the data\n",
    "train_data = pd.read_csv(\"/kaggle/input/titanic/train.csv\")\n",
    "test_data = pd.read_csv(\"/kaggle/input/titanic/test.csv\")\n",
    "\n",
    "# Separate target from predictors\n",
    "y = train_data.Survived\n",
    "X = train_data.drop(['Survived', 'PassengerId'], axis=1)\n",
    "X_test = test_data.drop(['PassengerId'], axis=1)\n",
    "\n",
    "# Divide data into training/validation sets\n",
    "X_train, X_valid, y_train, y_valid = train_test_split(X, y, train_size=0.8, test_size=0.2, random_state=0)\n",
    "\n",
    "# Select categorical columns with relatively low cardinality\n",
    "categorical_cols = [cname for cname in X_train.columns if X_train[cname].nunique() < 10 and X_train[cname].dtype == 'object']\n",
    "\n",
    "#Select numerical columns\n",
    "numerical_cols = [cname for cname in X_train.columns if  X_train[cname].dtype in ['int64', 'float64']]\n",
    "\n",
    "# Keep selected columns only\n",
    "my_cols = categorical_cols + numerical_cols\n",
    "X_train = X_train[my_cols]\n",
    "X_valid = X_valid[my_cols]\n",
    "X_test = X_test[my_cols]"
   ]
  },
  {
   "cell_type": "code",
   "execution_count": 2,
   "id": "c67636d3",
   "metadata": {
    "execution": {
     "iopub.execute_input": "2022-06-24T19:56:08.138067Z",
     "iopub.status.busy": "2022-06-24T19:56:08.137363Z",
     "iopub.status.idle": "2022-06-24T19:56:08.159345Z",
     "shell.execute_reply": "2022-06-24T19:56:08.158068Z"
    },
    "papermill": {
     "duration": 0.030014,
     "end_time": "2022-06-24T19:56:08.163354",
     "exception": false,
     "start_time": "2022-06-24T19:56:08.133340",
     "status": "completed"
    },
    "tags": []
   },
   "outputs": [
    {
     "data": {
      "text/html": [
       "<div>\n",
       "<style scoped>\n",
       "    .dataframe tbody tr th:only-of-type {\n",
       "        vertical-align: middle;\n",
       "    }\n",
       "\n",
       "    .dataframe tbody tr th {\n",
       "        vertical-align: top;\n",
       "    }\n",
       "\n",
       "    .dataframe thead th {\n",
       "        text-align: right;\n",
       "    }\n",
       "</style>\n",
       "<table border=\"1\" class=\"dataframe\">\n",
       "  <thead>\n",
       "    <tr style=\"text-align: right;\">\n",
       "      <th></th>\n",
       "      <th>Sex</th>\n",
       "      <th>Embarked</th>\n",
       "      <th>Pclass</th>\n",
       "      <th>Age</th>\n",
       "      <th>SibSp</th>\n",
       "      <th>Parch</th>\n",
       "      <th>Fare</th>\n",
       "    </tr>\n",
       "  </thead>\n",
       "  <tbody>\n",
       "    <tr>\n",
       "      <th>140</th>\n",
       "      <td>female</td>\n",
       "      <td>C</td>\n",
       "      <td>3</td>\n",
       "      <td>NaN</td>\n",
       "      <td>0</td>\n",
       "      <td>2</td>\n",
       "      <td>15.2458</td>\n",
       "    </tr>\n",
       "    <tr>\n",
       "      <th>439</th>\n",
       "      <td>male</td>\n",
       "      <td>S</td>\n",
       "      <td>2</td>\n",
       "      <td>31.0</td>\n",
       "      <td>0</td>\n",
       "      <td>0</td>\n",
       "      <td>10.5000</td>\n",
       "    </tr>\n",
       "    <tr>\n",
       "      <th>817</th>\n",
       "      <td>male</td>\n",
       "      <td>C</td>\n",
       "      <td>2</td>\n",
       "      <td>31.0</td>\n",
       "      <td>1</td>\n",
       "      <td>1</td>\n",
       "      <td>37.0042</td>\n",
       "    </tr>\n",
       "    <tr>\n",
       "      <th>378</th>\n",
       "      <td>male</td>\n",
       "      <td>C</td>\n",
       "      <td>3</td>\n",
       "      <td>20.0</td>\n",
       "      <td>0</td>\n",
       "      <td>0</td>\n",
       "      <td>4.0125</td>\n",
       "    </tr>\n",
       "    <tr>\n",
       "      <th>491</th>\n",
       "      <td>male</td>\n",
       "      <td>S</td>\n",
       "      <td>3</td>\n",
       "      <td>21.0</td>\n",
       "      <td>0</td>\n",
       "      <td>0</td>\n",
       "      <td>7.2500</td>\n",
       "    </tr>\n",
       "  </tbody>\n",
       "</table>\n",
       "</div>"
      ],
      "text/plain": [
       "        Sex Embarked  Pclass   Age  SibSp  Parch     Fare\n",
       "140  female        C       3   NaN      0      2  15.2458\n",
       "439    male        S       2  31.0      0      0  10.5000\n",
       "817    male        C       2  31.0      1      1  37.0042\n",
       "378    male        C       3  20.0      0      0   4.0125\n",
       "491    male        S       3  21.0      0      0   7.2500"
      ]
     },
     "execution_count": 2,
     "metadata": {},
     "output_type": "execute_result"
    }
   ],
   "source": [
    "X_train.head()"
   ]
  },
  {
   "cell_type": "code",
   "execution_count": 3,
   "id": "c80441ec",
   "metadata": {
    "execution": {
     "iopub.execute_input": "2022-06-24T19:56:08.171537Z",
     "iopub.status.busy": "2022-06-24T19:56:08.170915Z",
     "iopub.status.idle": "2022-06-24T19:56:08.185344Z",
     "shell.execute_reply": "2022-06-24T19:56:08.184285Z"
    },
    "papermill": {
     "duration": 0.021171,
     "end_time": "2022-06-24T19:56:08.187768",
     "exception": false,
     "start_time": "2022-06-24T19:56:08.166597",
     "status": "completed"
    },
    "tags": []
   },
   "outputs": [
    {
     "data": {
      "text/html": [
       "<div>\n",
       "<style scoped>\n",
       "    .dataframe tbody tr th:only-of-type {\n",
       "        vertical-align: middle;\n",
       "    }\n",
       "\n",
       "    .dataframe tbody tr th {\n",
       "        vertical-align: top;\n",
       "    }\n",
       "\n",
       "    .dataframe thead th {\n",
       "        text-align: right;\n",
       "    }\n",
       "</style>\n",
       "<table border=\"1\" class=\"dataframe\">\n",
       "  <thead>\n",
       "    <tr style=\"text-align: right;\">\n",
       "      <th></th>\n",
       "      <th>Sex</th>\n",
       "      <th>Embarked</th>\n",
       "      <th>Pclass</th>\n",
       "      <th>Age</th>\n",
       "      <th>SibSp</th>\n",
       "      <th>Parch</th>\n",
       "      <th>Fare</th>\n",
       "    </tr>\n",
       "  </thead>\n",
       "  <tbody>\n",
       "    <tr>\n",
       "      <th>0</th>\n",
       "      <td>male</td>\n",
       "      <td>Q</td>\n",
       "      <td>3</td>\n",
       "      <td>34.5</td>\n",
       "      <td>0</td>\n",
       "      <td>0</td>\n",
       "      <td>7.8292</td>\n",
       "    </tr>\n",
       "    <tr>\n",
       "      <th>1</th>\n",
       "      <td>female</td>\n",
       "      <td>S</td>\n",
       "      <td>3</td>\n",
       "      <td>47.0</td>\n",
       "      <td>1</td>\n",
       "      <td>0</td>\n",
       "      <td>7.0000</td>\n",
       "    </tr>\n",
       "    <tr>\n",
       "      <th>2</th>\n",
       "      <td>male</td>\n",
       "      <td>Q</td>\n",
       "      <td>2</td>\n",
       "      <td>62.0</td>\n",
       "      <td>0</td>\n",
       "      <td>0</td>\n",
       "      <td>9.6875</td>\n",
       "    </tr>\n",
       "    <tr>\n",
       "      <th>3</th>\n",
       "      <td>male</td>\n",
       "      <td>S</td>\n",
       "      <td>3</td>\n",
       "      <td>27.0</td>\n",
       "      <td>0</td>\n",
       "      <td>0</td>\n",
       "      <td>8.6625</td>\n",
       "    </tr>\n",
       "    <tr>\n",
       "      <th>4</th>\n",
       "      <td>female</td>\n",
       "      <td>S</td>\n",
       "      <td>3</td>\n",
       "      <td>22.0</td>\n",
       "      <td>1</td>\n",
       "      <td>1</td>\n",
       "      <td>12.2875</td>\n",
       "    </tr>\n",
       "  </tbody>\n",
       "</table>\n",
       "</div>"
      ],
      "text/plain": [
       "      Sex Embarked  Pclass   Age  SibSp  Parch     Fare\n",
       "0    male        Q       3  34.5      0      0   7.8292\n",
       "1  female        S       3  47.0      1      0   7.0000\n",
       "2    male        Q       2  62.0      0      0   9.6875\n",
       "3    male        S       3  27.0      0      0   8.6625\n",
       "4  female        S       3  22.0      1      1  12.2875"
      ]
     },
     "execution_count": 3,
     "metadata": {},
     "output_type": "execute_result"
    }
   ],
   "source": [
    "X_test.head()"
   ]
  },
  {
   "cell_type": "code",
   "execution_count": 4,
   "id": "e635eb6e",
   "metadata": {
    "execution": {
     "iopub.execute_input": "2022-06-24T19:56:08.196687Z",
     "iopub.status.busy": "2022-06-24T19:56:08.196083Z",
     "iopub.status.idle": "2022-06-24T19:56:08.348185Z",
     "shell.execute_reply": "2022-06-24T19:56:08.347161Z"
    },
    "papermill": {
     "duration": 0.15975,
     "end_time": "2022-06-24T19:56:08.351041",
     "exception": false,
     "start_time": "2022-06-24T19:56:08.191291",
     "status": "completed"
    },
    "tags": []
   },
   "outputs": [],
   "source": [
    "from sklearn.compose import ColumnTransformer\n",
    "from sklearn.pipeline import Pipeline\n",
    "from sklearn.impute import SimpleImputer\n",
    "from sklearn.preprocessing import OneHotEncoder\n",
    "\n",
    "# Preprocessing for numerical data\n",
    "numerical_transformer = SimpleImputer(strategy='constant')\n",
    "\n",
    "# Preprocessing for categorical data\n",
    "categorical_transformer = Pipeline(steps=[\n",
    "    ('imputer', SimpleImputer(strategy='most_frequent')),\n",
    "    ('onehot', OneHotEncoder(handle_unknown='ignore'))\n",
    "])\n",
    "\n",
    "# Bundle preprocessing for numerical and categorical data\n",
    "preprocessor = ColumnTransformer(\n",
    "    transformers=[\n",
    "        ('num', numerical_transformer, numerical_cols),\n",
    "        ('cat', categorical_transformer, categorical_cols)\n",
    "])"
   ]
  },
  {
   "cell_type": "code",
   "execution_count": 5,
   "id": "bf30c0e4",
   "metadata": {
    "execution": {
     "iopub.execute_input": "2022-06-24T19:56:08.359860Z",
     "iopub.status.busy": "2022-06-24T19:56:08.359091Z",
     "iopub.status.idle": "2022-06-24T19:56:08.489394Z",
     "shell.execute_reply": "2022-06-24T19:56:08.487731Z"
    },
    "papermill": {
     "duration": 0.137528,
     "end_time": "2022-06-24T19:56:08.491996",
     "exception": false,
     "start_time": "2022-06-24T19:56:08.354468",
     "status": "completed"
    },
    "tags": []
   },
   "outputs": [],
   "source": [
    "from sklearn.ensemble import RandomForestClassifier\n",
    "\n",
    "model = RandomForestClassifier(n_estimators=100, random_state=0)"
   ]
  },
  {
   "cell_type": "code",
   "execution_count": 6,
   "id": "6cdd8825",
   "metadata": {
    "execution": {
     "iopub.execute_input": "2022-06-24T19:56:08.500829Z",
     "iopub.status.busy": "2022-06-24T19:56:08.500396Z",
     "iopub.status.idle": "2022-06-24T19:56:08.764289Z",
     "shell.execute_reply": "2022-06-24T19:56:08.762627Z"
    },
    "papermill": {
     "duration": 0.272139,
     "end_time": "2022-06-24T19:56:08.767725",
     "exception": false,
     "start_time": "2022-06-24T19:56:08.495586",
     "status": "completed"
    },
    "tags": []
   },
   "outputs": [
    {
     "name": "stdout",
     "output_type": "stream",
     "text": [
      "Accuracy:  0.8379888268156425\n"
     ]
    }
   ],
   "source": [
    "from sklearn.metrics import accuracy_score\n",
    "\n",
    "# Bundle preprocessing and modeling code in a pipeline\n",
    "my_pipeline = Pipeline(steps=[('preprocessor', preprocessor),\n",
    "                              ('model', model)    \n",
    "                             ])\n",
    "\n",
    "# Preprocessing of training data, fit model\n",
    "my_pipeline.fit(X_train, y_train)\n",
    "\n",
    "# Preprocessing of validation data, get predictions\n",
    "preds = my_pipeline.predict(X_valid)\n",
    "\n",
    "# Evaluate the model\n",
    "score = accuracy_score(y_valid, preds)\n",
    "print('Accuracy: ', score)                            "
   ]
  },
  {
   "cell_type": "code",
   "execution_count": 7,
   "id": "4587f281",
   "metadata": {
    "execution": {
     "iopub.execute_input": "2022-06-24T19:56:08.778401Z",
     "iopub.status.busy": "2022-06-24T19:56:08.777949Z",
     "iopub.status.idle": "2022-06-24T19:56:08.818833Z",
     "shell.execute_reply": "2022-06-24T19:56:08.817246Z"
    },
    "papermill": {
     "duration": 0.048949,
     "end_time": "2022-06-24T19:56:08.821753",
     "exception": false,
     "start_time": "2022-06-24T19:56:08.772804",
     "status": "completed"
    },
    "tags": []
   },
   "outputs": [
    {
     "name": "stdout",
     "output_type": "stream",
     "text": [
      "Your submission was successfully saved!\n"
     ]
    }
   ],
   "source": [
    "preds_test = my_pipeline.predict(X_test)\n",
    "\n",
    "output = pd.DataFrame({'PassengerId': test_data.PassengerId, 'Survived': preds_test})\n",
    "output.to_csv('submission.csv', index=False)\n",
    "print(\"Your submission was successfully saved!\")"
   ]
  }
 ],
 "metadata": {
  "kernelspec": {
   "display_name": "Python 3",
   "language": "python",
   "name": "python3"
  },
  "language_info": {
   "codemirror_mode": {
    "name": "ipython",
    "version": 3
   },
   "file_extension": ".py",
   "mimetype": "text/x-python",
   "name": "python",
   "nbconvert_exporter": "python",
   "pygments_lexer": "ipython3",
   "version": "3.7.12"
  },
  "papermill": {
   "default_parameters": {},
   "duration": 13.478098,
   "end_time": "2022-06-24T19:56:09.548596",
   "environment_variables": {},
   "exception": null,
   "input_path": "__notebook__.ipynb",
   "output_path": "__notebook__.ipynb",
   "parameters": {},
   "start_time": "2022-06-24T19:55:56.070498",
   "version": "2.3.4"
  }
 },
 "nbformat": 4,
 "nbformat_minor": 5
}
