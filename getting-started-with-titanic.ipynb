{
 "cells": [
  {
   "cell_type": "code",
   "execution_count": 1,
   "id": "c63c9dde",
   "metadata": {
    "execution": {
     "iopub.execute_input": "2022-06-27T14:44:15.737035Z",
     "iopub.status.busy": "2022-06-27T14:44:15.735876Z",
     "iopub.status.idle": "2022-06-27T14:44:16.998574Z",
     "shell.execute_reply": "2022-06-27T14:44:16.997475Z"
    },
    "papermill": {
     "duration": 1.271218,
     "end_time": "2022-06-27T14:44:17.001690",
     "exception": false,
     "start_time": "2022-06-27T14:44:15.730472",
     "status": "completed"
    },
    "tags": []
   },
   "outputs": [],
   "source": [
    "import pandas as pd\n",
    "from sklearn.model_selection import train_test_split\n",
    "\n",
    "# Read the data\n",
    "train_data = pd.read_csv(\"/kaggle/input/titanic/train.csv\")\n",
    "test_data = pd.read_csv(\"/kaggle/input/titanic/test.csv\")\n",
    "\n",
    "# Separate target from predictors\n",
    "y = train_data.Survived\n",
    "X = train_data.drop(['Survived', 'PassengerId'], axis=1)\n",
    "X_test = test_data.drop(['PassengerId'], axis=1)\n",
    "\n",
    "# Divide data into training/validation sets\n",
    "X_train, X_valid, y_train, y_valid = train_test_split(X, y, train_size=0.8, test_size=0.2, random_state=0)\n",
    "\n",
    "# Select categorical columns with relatively low cardinality\n",
    "categorical_cols = [cname for cname in X_train.columns if X_train[cname].nunique() < 10 and X_train[cname].dtype == 'object']\n",
    "\n",
    "#Select numerical columns\n",
    "numerical_cols = [cname for cname in X_train.columns if  X_train[cname].dtype in ['int64', 'float64']]\n",
    "\n",
    "# Keep selected columns only\n",
    "my_cols = categorical_cols + numerical_cols\n",
    "X_train = X_train[my_cols]\n",
    "X_valid = X_valid[my_cols]\n",
    "X_test = X_test[my_cols]"
   ]
  },
  {
   "cell_type": "code",
   "execution_count": 2,
   "id": "09a0e8d7",
   "metadata": {
    "execution": {
     "iopub.execute_input": "2022-06-27T14:44:17.009664Z",
     "iopub.status.busy": "2022-06-27T14:44:17.008619Z",
     "iopub.status.idle": "2022-06-27T14:44:17.028757Z",
     "shell.execute_reply": "2022-06-27T14:44:17.027520Z"
    },
    "papermill": {
     "duration": 0.028006,
     "end_time": "2022-06-27T14:44:17.032769",
     "exception": false,
     "start_time": "2022-06-27T14:44:17.004763",
     "status": "completed"
    },
    "tags": []
   },
   "outputs": [
    {
     "data": {
      "text/html": [
       "<div>\n",
       "<style scoped>\n",
       "    .dataframe tbody tr th:only-of-type {\n",
       "        vertical-align: middle;\n",
       "    }\n",
       "\n",
       "    .dataframe tbody tr th {\n",
       "        vertical-align: top;\n",
       "    }\n",
       "\n",
       "    .dataframe thead th {\n",
       "        text-align: right;\n",
       "    }\n",
       "</style>\n",
       "<table border=\"1\" class=\"dataframe\">\n",
       "  <thead>\n",
       "    <tr style=\"text-align: right;\">\n",
       "      <th></th>\n",
       "      <th>Sex</th>\n",
       "      <th>Embarked</th>\n",
       "      <th>Pclass</th>\n",
       "      <th>Age</th>\n",
       "      <th>SibSp</th>\n",
       "      <th>Parch</th>\n",
       "      <th>Fare</th>\n",
       "    </tr>\n",
       "  </thead>\n",
       "  <tbody>\n",
       "    <tr>\n",
       "      <th>140</th>\n",
       "      <td>female</td>\n",
       "      <td>C</td>\n",
       "      <td>3</td>\n",
       "      <td>NaN</td>\n",
       "      <td>0</td>\n",
       "      <td>2</td>\n",
       "      <td>15.2458</td>\n",
       "    </tr>\n",
       "    <tr>\n",
       "      <th>439</th>\n",
       "      <td>male</td>\n",
       "      <td>S</td>\n",
       "      <td>2</td>\n",
       "      <td>31.0</td>\n",
       "      <td>0</td>\n",
       "      <td>0</td>\n",
       "      <td>10.5000</td>\n",
       "    </tr>\n",
       "    <tr>\n",
       "      <th>817</th>\n",
       "      <td>male</td>\n",
       "      <td>C</td>\n",
       "      <td>2</td>\n",
       "      <td>31.0</td>\n",
       "      <td>1</td>\n",
       "      <td>1</td>\n",
       "      <td>37.0042</td>\n",
       "    </tr>\n",
       "    <tr>\n",
       "      <th>378</th>\n",
       "      <td>male</td>\n",
       "      <td>C</td>\n",
       "      <td>3</td>\n",
       "      <td>20.0</td>\n",
       "      <td>0</td>\n",
       "      <td>0</td>\n",
       "      <td>4.0125</td>\n",
       "    </tr>\n",
       "    <tr>\n",
       "      <th>491</th>\n",
       "      <td>male</td>\n",
       "      <td>S</td>\n",
       "      <td>3</td>\n",
       "      <td>21.0</td>\n",
       "      <td>0</td>\n",
       "      <td>0</td>\n",
       "      <td>7.2500</td>\n",
       "    </tr>\n",
       "  </tbody>\n",
       "</table>\n",
       "</div>"
      ],
      "text/plain": [
       "        Sex Embarked  Pclass   Age  SibSp  Parch     Fare\n",
       "140  female        C       3   NaN      0      2  15.2458\n",
       "439    male        S       2  31.0      0      0  10.5000\n",
       "817    male        C       2  31.0      1      1  37.0042\n",
       "378    male        C       3  20.0      0      0   4.0125\n",
       "491    male        S       3  21.0      0      0   7.2500"
      ]
     },
     "execution_count": 2,
     "metadata": {},
     "output_type": "execute_result"
    }
   ],
   "source": [
    "X_train.head()"
   ]
  },
  {
   "cell_type": "code",
   "execution_count": 3,
   "id": "8fef20b4",
   "metadata": {
    "execution": {
     "iopub.execute_input": "2022-06-27T14:44:17.040875Z",
     "iopub.status.busy": "2022-06-27T14:44:17.040511Z",
     "iopub.status.idle": "2022-06-27T14:44:17.054611Z",
     "shell.execute_reply": "2022-06-27T14:44:17.053493Z"
    },
    "papermill": {
     "duration": 0.021669,
     "end_time": "2022-06-27T14:44:17.057762",
     "exception": false,
     "start_time": "2022-06-27T14:44:17.036093",
     "status": "completed"
    },
    "tags": []
   },
   "outputs": [
    {
     "data": {
      "text/html": [
       "<div>\n",
       "<style scoped>\n",
       "    .dataframe tbody tr th:only-of-type {\n",
       "        vertical-align: middle;\n",
       "    }\n",
       "\n",
       "    .dataframe tbody tr th {\n",
       "        vertical-align: top;\n",
       "    }\n",
       "\n",
       "    .dataframe thead th {\n",
       "        text-align: right;\n",
       "    }\n",
       "</style>\n",
       "<table border=\"1\" class=\"dataframe\">\n",
       "  <thead>\n",
       "    <tr style=\"text-align: right;\">\n",
       "      <th></th>\n",
       "      <th>Sex</th>\n",
       "      <th>Embarked</th>\n",
       "      <th>Pclass</th>\n",
       "      <th>Age</th>\n",
       "      <th>SibSp</th>\n",
       "      <th>Parch</th>\n",
       "      <th>Fare</th>\n",
       "    </tr>\n",
       "  </thead>\n",
       "  <tbody>\n",
       "    <tr>\n",
       "      <th>0</th>\n",
       "      <td>male</td>\n",
       "      <td>Q</td>\n",
       "      <td>3</td>\n",
       "      <td>34.5</td>\n",
       "      <td>0</td>\n",
       "      <td>0</td>\n",
       "      <td>7.8292</td>\n",
       "    </tr>\n",
       "    <tr>\n",
       "      <th>1</th>\n",
       "      <td>female</td>\n",
       "      <td>S</td>\n",
       "      <td>3</td>\n",
       "      <td>47.0</td>\n",
       "      <td>1</td>\n",
       "      <td>0</td>\n",
       "      <td>7.0000</td>\n",
       "    </tr>\n",
       "    <tr>\n",
       "      <th>2</th>\n",
       "      <td>male</td>\n",
       "      <td>Q</td>\n",
       "      <td>2</td>\n",
       "      <td>62.0</td>\n",
       "      <td>0</td>\n",
       "      <td>0</td>\n",
       "      <td>9.6875</td>\n",
       "    </tr>\n",
       "    <tr>\n",
       "      <th>3</th>\n",
       "      <td>male</td>\n",
       "      <td>S</td>\n",
       "      <td>3</td>\n",
       "      <td>27.0</td>\n",
       "      <td>0</td>\n",
       "      <td>0</td>\n",
       "      <td>8.6625</td>\n",
       "    </tr>\n",
       "    <tr>\n",
       "      <th>4</th>\n",
       "      <td>female</td>\n",
       "      <td>S</td>\n",
       "      <td>3</td>\n",
       "      <td>22.0</td>\n",
       "      <td>1</td>\n",
       "      <td>1</td>\n",
       "      <td>12.2875</td>\n",
       "    </tr>\n",
       "  </tbody>\n",
       "</table>\n",
       "</div>"
      ],
      "text/plain": [
       "      Sex Embarked  Pclass   Age  SibSp  Parch     Fare\n",
       "0    male        Q       3  34.5      0      0   7.8292\n",
       "1  female        S       3  47.0      1      0   7.0000\n",
       "2    male        Q       2  62.0      0      0   9.6875\n",
       "3    male        S       3  27.0      0      0   8.6625\n",
       "4  female        S       3  22.0      1      1  12.2875"
      ]
     },
     "execution_count": 3,
     "metadata": {},
     "output_type": "execute_result"
    }
   ],
   "source": [
    "X_test.head()"
   ]
  },
  {
   "cell_type": "code",
   "execution_count": 4,
   "id": "78c365c2",
   "metadata": {
    "execution": {
     "iopub.execute_input": "2022-06-27T14:44:17.067167Z",
     "iopub.status.busy": "2022-06-27T14:44:17.066007Z",
     "iopub.status.idle": "2022-06-27T14:44:17.205883Z",
     "shell.execute_reply": "2022-06-27T14:44:17.204842Z"
    },
    "papermill": {
     "duration": 0.147282,
     "end_time": "2022-06-27T14:44:17.208426",
     "exception": false,
     "start_time": "2022-06-27T14:44:17.061144",
     "status": "completed"
    },
    "tags": []
   },
   "outputs": [],
   "source": [
    "from sklearn.compose import ColumnTransformer\n",
    "from sklearn.pipeline import Pipeline\n",
    "from sklearn.impute import SimpleImputer\n",
    "from sklearn.preprocessing import OneHotEncoder\n",
    "\n",
    "# Preprocessing for numerical data\n",
    "numerical_transformer = SimpleImputer(strategy='constant')\n",
    "\n",
    "# Preprocessing for categorical data\n",
    "categorical_transformer = Pipeline(steps=[\n",
    "    ('imputer', SimpleImputer(strategy='most_frequent')),\n",
    "    ('onehot', OneHotEncoder(handle_unknown='ignore'))\n",
    "])\n",
    "\n",
    "# Bundle preprocessing for numerical and categorical data\n",
    "preprocessor = ColumnTransformer(\n",
    "    transformers=[\n",
    "        ('num', numerical_transformer, numerical_cols),\n",
    "        ('cat', categorical_transformer, categorical_cols)\n",
    "])"
   ]
  },
  {
   "cell_type": "code",
   "execution_count": 5,
   "id": "5a950ae1",
   "metadata": {
    "execution": {
     "iopub.execute_input": "2022-06-27T14:44:17.215770Z",
     "iopub.status.busy": "2022-06-27T14:44:17.215456Z",
     "iopub.status.idle": "2022-06-27T14:44:17.408015Z",
     "shell.execute_reply": "2022-06-27T14:44:17.407073Z"
    },
    "papermill": {
     "duration": 0.198785,
     "end_time": "2022-06-27T14:44:17.410400",
     "exception": false,
     "start_time": "2022-06-27T14:44:17.211615",
     "status": "completed"
    },
    "tags": []
   },
   "outputs": [],
   "source": [
    "from sklearn.ensemble import RandomForestClassifier\n",
    "from xgboost import XGBClassifier\n",
    "\n",
    "models = [\n",
    "    RandomForestClassifier(n_estimators=100, max_depth=5, random_state=1),\n",
    "    XGBClassifier(n_estimators=1000, learning_rate=0.05)\n",
    "    ]"
   ]
  },
  {
   "cell_type": "code",
   "execution_count": 6,
   "id": "1f43795b",
   "metadata": {
    "execution": {
     "iopub.execute_input": "2022-06-27T14:44:17.418156Z",
     "iopub.status.busy": "2022-06-27T14:44:17.417809Z",
     "iopub.status.idle": "2022-06-27T14:44:21.459495Z",
     "shell.execute_reply": "2022-06-27T14:44:21.458623Z"
    },
    "papermill": {
     "duration": 4.048616,
     "end_time": "2022-06-27T14:44:21.462051",
     "exception": false,
     "start_time": "2022-06-27T14:44:17.413435",
     "status": "completed"
    },
    "tags": []
   },
   "outputs": [
    {
     "name": "stdout",
     "output_type": "stream",
     "text": [
      "RandomForestClassifier(max_depth=5, random_state=1)\n",
      "model score: 0.804\n",
      "XGBClassifier(base_score=0.5, booster='gbtree', callbacks=None,\n",
      "              colsample_bylevel=1, colsample_bynode=1, colsample_bytree=1,\n",
      "              early_stopping_rounds=None, enable_categorical=False,\n",
      "              eval_metric=None, gamma=0, gpu_id=-1, grow_policy='depthwise',\n",
      "              importance_type=None, interaction_constraints='',\n",
      "              learning_rate=0.05, max_bin=256, max_cat_to_onehot=4,\n",
      "              max_delta_step=0, max_depth=6, max_leaves=0, min_child_weight=1,\n",
      "              missing=nan, monotone_constraints='()', n_estimators=1000,\n",
      "              n_jobs=0, num_parallel_tree=1, predictor='auto', random_state=0,\n",
      "              reg_alpha=0, reg_lambda=1, ...)\n",
      "model score: 0.855\n"
     ]
    }
   ],
   "source": [
    "for model in models:\n",
    "    my_pipeline = Pipeline(steps=[('preprocessor', preprocessor),\n",
    "                                  ('model', model)    \n",
    "                                 ])\n",
    "    my_pipeline.fit(X_train, y_train)\n",
    "    print(model)\n",
    "    print(\"model score: %.3f\" % my_pipeline.score(X_valid, y_valid))"
   ]
  },
  {
   "cell_type": "code",
   "execution_count": 7,
   "id": "bfaf795a",
   "metadata": {
    "execution": {
     "iopub.execute_input": "2022-06-27T14:44:21.471996Z",
     "iopub.status.busy": "2022-06-27T14:44:21.471632Z",
     "iopub.status.idle": "2022-06-27T14:44:21.501243Z",
     "shell.execute_reply": "2022-06-27T14:44:21.499637Z"
    },
    "papermill": {
     "duration": 0.037971,
     "end_time": "2022-06-27T14:44:21.504382",
     "exception": false,
     "start_time": "2022-06-27T14:44:21.466411",
     "status": "completed"
    },
    "tags": []
   },
   "outputs": [
    {
     "name": "stdout",
     "output_type": "stream",
     "text": [
      "Your submission was successfully saved!\n"
     ]
    }
   ],
   "source": [
    "# Define best model\n",
    "model = XGBClassifier(n_estimators=1000, learning_rate=0.05)\n",
    "\n",
    "# Preprocessing of test data, get predictions\n",
    "preds = my_pipeline.predict(X_test)\n",
    "\n",
    "output = pd.DataFrame({'PassengerId': test_data.PassengerId, 'Survived': preds})\n",
    "output.to_csv('submission.csv', index=False)\n",
    "print(\"Your submission was successfully saved!\")"
   ]
  }
 ],
 "metadata": {
  "kernelspec": {
   "display_name": "Python 3",
   "language": "python",
   "name": "python3"
  },
  "language_info": {
   "codemirror_mode": {
    "name": "ipython",
    "version": 3
   },
   "file_extension": ".py",
   "mimetype": "text/x-python",
   "name": "python",
   "nbconvert_exporter": "python",
   "pygments_lexer": "ipython3",
   "version": "3.7.12"
  },
  "papermill": {
   "default_parameters": {},
   "duration": 15.984759,
   "end_time": "2022-06-27T14:44:22.931694",
   "environment_variables": {},
   "exception": null,
   "input_path": "__notebook__.ipynb",
   "output_path": "__notebook__.ipynb",
   "parameters": {},
   "start_time": "2022-06-27T14:44:06.946935",
   "version": "2.3.4"
  }
 },
 "nbformat": 4,
 "nbformat_minor": 5
}
